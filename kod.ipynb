{
 "cells": [
  {
   "cell_type": "code",
   "execution_count": 4,
   "metadata": {},
   "outputs": [
    {
     "name": "stdout",
     "output_type": "stream",
     "text": [
      "Writing train.py\n"
     ]
    }
   ],
   "source": [
    "%%file train.py\n",
    "\n",
    "import numpy as np\n",
    "from sklearn.datasets import load_iris\n",
    "from sklearn.model_selection import train_test_split\n",
    "from sklearn.preprocessing import StandardScaler\n",
    "import pickle\n",
    "\n",
    "# Definicja klasy Perceptron\n",
    "class Perceptron():\n",
    "    def __init__(self, eta=0.01, n_iter=10):\n",
    "        self.eta = eta\n",
    "        self.n_iter = n_iter\n",
    "    \n",
    "    def fit(self, X, y):\n",
    "        self.w_ = [np.random.uniform(-1.0, 1.0) for _ in range(1 + X.shape[1])]\n",
    "        self.errors_ = []\n",
    "        \n",
    "        for _ in range(self.n_iter):\n",
    "            errors = 0\n",
    "            for xi, target in zip(X, y):\n",
    "                update = self.eta * (target - self.predict(xi))\n",
    "                self.w_[1:] += update * xi\n",
    "                self.w_[0] += update\n",
    "                errors += int(update != 0.0)\n",
    "            self.errors_.append(errors)\n",
    "        return self\n",
    "    \n",
    "    def net_input(self, X):\n",
    "        return np.dot(X, self.w_[1:]) + self.w_[0]\n",
    "    \n",
    "    def predict(self, X):\n",
    "        return np.where(self.net_input(X) >= 0.0, 1, -1)\n",
    "\n",
    "# Załadowanie zbioru danych Iris\n",
    "iris = load_iris()\n",
    "X = iris.data[:, [0, 2]]  # wybieramy tylko pierwszą i trzecią cechę\n",
    "y = (iris.target != 0) * 1  # binaryzacja problemu (0 lub 1)\n",
    "\n",
    "# Podział na zbiór treningowy i testowy\n",
    "X_train, X_test, y_train, y_test = train_test_split(X, y, test_size=0.3, random_state=1, stratify=y)\n",
    "\n",
    "# Standaryzacja cech\n",
    "sc = StandardScaler()\n",
    "sc.fit(X_train)\n",
    "X_train_std = sc.transform(X_train)\n",
    "X_test_std = sc.transform(X_test)\n",
    "\n",
    "# Trenowanie perceptronu\n",
    "ppn = Perceptron(eta=0.01, n_iter=10)\n",
    "ppn.fit(X_train_std, y_train)\n",
    "\n",
    "# Zapisanie wytrenowanego modelu\n",
    "with open('model.pkl', 'wb') as picklefile:\n",
    "    pickle.dump(ppn, picklefile)\n"
   ]
  },
  {
   "cell_type": "code",
   "execution_count": 5,
   "metadata": {},
   "outputs": [
    {
     "name": "stdout",
     "output_type": "stream",
     "text": [
      "Writing app.py\n"
     ]
    }
   ],
   "source": [
    "%%file app.py\n",
    "\n",
    "import pickle\n",
    "import numpy as np\n",
    "from flask import Flask, request, jsonify\n",
    "\n",
    "class Perceptron():\n",
    "    def __init__(self, eta=0.01, n_iter=10):\n",
    "        self.eta = eta\n",
    "        self.n_iter = n_iter\n",
    "    \n",
    "    def fit(self, X, y):\n",
    "        self.w_ = [np.random.uniform(-1.0, 1.0) for _ in range(1 + X.shape[1])]\n",
    "        self.errors_ = []\n",
    "        \n",
    "        for _ in range(self.n_iter):\n",
    "            errors = 0\n",
    "            for xi, target in zip(X, y):\n",
    "                update = self.eta * (target - self.predict(xi))\n",
    "                self.w_[1:] += update * xi\n",
    "                self.w_[0] += update\n",
    "                errors += int(update != 0.0)\n",
    "            self.errors_.append(errors)\n",
    "        return self\n",
    "    \n",
    "    def net_input(self, X):\n",
    "        return np.dot(X, self.w_[1:]) + self.w_[0]\n",
    "    \n",
    "    def predict(self, X):\n",
    "        return np.where(self.net_input(X) >= 0.0, 1, -1)\n",
    "\n",
    "# Tworzenie aplikacji Flask\n",
    "app = Flask(__name__)\n",
    "\n",
    "# Tworzenie endpointu API\n",
    "@app.route('/predict_get', methods=['GET'])\n",
    "def get_prediction():\n",
    "    # długość działki\n",
    "    sepal_length = float(request.args.get('sl'))\n",
    "    petal_length = float(request.args.get('pl'))\n",
    "    \n",
    "    features = [sepal_length, petal_length]\n",
    "\n",
    "    # Wczytanie modelu z pliku\n",
    "    with open('model.pkl', \"rb\") as picklefile:\n",
    "        model = pickle.load(picklefile)\n",
    "        \n",
    "    # Predykcja klasy za pomocą modelu\n",
    "    predicted_class = int(model.predict(features))\n",
    "    \n",
    "    # Zwrócenie obiektu JSON zawierającego cechy i predykcję\n",
    "    return jsonify(features=features, predicted_class=predicted_class)\n",
    "\n",
    "if __name__ == '__main__':\n",
    "    app.run(host='0.0.0.0', port=5000)\n"
   ]
  },
  {
   "cell_type": "code",
   "execution_count": 6,
   "metadata": {},
   "outputs": [
    {
     "name": "stdout",
     "output_type": "stream",
     "text": [
      "Writing Dockerfile\n"
     ]
    }
   ],
   "source": [
    "%%file Dockerfile\n",
    "\n",
    "# Użyj oficjalnego obrazu Pythona jako bazowego\n",
    "FROM python:3.9-slim\n",
    "\n",
    "# Ustawienie katalogu roboczego\n",
    "WORKDIR /app\n",
    "\n",
    "# Skopiowanie zawartości bieżącego katalogu do obrazu\n",
    "COPY . /app\n",
    "\n",
    "# Instalacja potrzebnych pakietów\n",
    "RUN pip install --no-cache-dir -r requirements.txt\n",
    "\n",
    "# Udostępnienie portu 5000\n",
    "EXPOSE 5000\n",
    "\n",
    "# Zdefiniowanie zmiennej środowiskowej\n",
    "ENV NAME PerceptronApp\n",
    "\n",
    "# Uruchomienie pliku app.py przy starcie kontenera\n",
    "CMD [\"python\", \"app.py\"]\n"
   ]
  },
  {
   "cell_type": "code",
   "execution_count": 8,
   "metadata": {},
   "outputs": [
    {
     "name": "stdout",
     "output_type": "stream",
     "text": [
      "Overwriting requirements.txt\n"
     ]
    }
   ],
   "source": [
    "%%file requirements.txt\n",
    "\n",
    "Flask==2.0.1\n",
    "numpy==1.21.0\n",
    "scikit-learn==0.24.2\n"
   ]
  },
  {
   "cell_type": "code",
   "execution_count": 9,
   "metadata": {},
   "outputs": [
    {
     "data": {
      "text/plain": [
       "4"
      ]
     },
     "execution_count": 9,
     "metadata": {},
     "output_type": "execute_result"
    }
   ],
   "source": [
    "2+2"
   ]
  }
 ],
 "metadata": {
  "kernelspec": {
   "display_name": "Python 3",
   "language": "python",
   "name": "python3"
  },
  "language_info": {
   "codemirror_mode": {
    "name": "ipython",
    "version": 3
   },
   "file_extension": ".py",
   "mimetype": "text/x-python",
   "name": "python",
   "nbconvert_exporter": "python",
   "pygments_lexer": "ipython3",
   "version": "3.12.2"
  }
 },
 "nbformat": 4,
 "nbformat_minor": 2
}
